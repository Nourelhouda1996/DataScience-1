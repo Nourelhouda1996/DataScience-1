{
  "nbformat": 4,
  "nbformat_minor": 0,
  "metadata": {
    "colab": {
      "provenance": [],
      "include_colab_link": true
    },
    "kernelspec": {
      "name": "python3",
      "display_name": "Python 3"
    },
    "language_info": {
      "name": "python"
    }
  },
  "cells": [
    {
      "cell_type": "markdown",
      "metadata": {
        "id": "view-in-github",
        "colab_type": "text"
      },
      "source": [
        "<a href=\"https://colab.research.google.com/github/Nourelhouda1996/DataScience-1/blob/main/Distance_and_time_Starter_Code.ipynb\" target=\"_parent\"><img src=\"https://colab.research.google.com/assets/colab-badge.svg\" alt=\"Open In Colab\"/></a>"
      ]
    },
    {
      "cell_type": "markdown",
      "metadata": {
        "id": "FM-AQ_LY7Ec_"
      },
      "source": [
        "# Starter Code\n",
        "\n",
        "# Exploring NumPy Arrays: Distance and Time"
      ]
    },
    {
      "cell_type": "markdown",
      "metadata": {
        "id": "KFL-xYXw9hPp"
      },
      "source": [
        "1) Import the numpy library"
      ]
    },
    {
      "cell_type": "code",
      "metadata": {
        "id": "KfK86qGd6_sF"
      },
      "source": [
        "import numpy as np"
      ],
      "execution_count": null,
      "outputs": []
    },
    {
      "cell_type": "markdown",
      "metadata": {
        "id": "t9qEeja29wDt"
      },
      "source": [
        "2) Create a numpy array called \"distance\" that includes the following distances (in meters): 100, 200, 400, 800, 1500, 3000, 5000, 10000"
      ]
    },
    {
      "cell_type": "code",
      "metadata": {
        "id": "yffkXrYSdvpt",
        "colab": {
          "base_uri": "https://localhost:8080/"
        },
        "outputId": "0fdbac44-5a1c-4635-9d60-2062f7ec5179"
      },
      "source": [
        "import numpy as np\n",
        "\n",
        "meters=[100, 200, 400, 800, 1500, 3000, 5000, 10000]\n",
        "meters_Distance=np.array(meters)\n",
        "\n",
        "print(meters_Distance)"
      ],
      "execution_count": 2,
      "outputs": [
        {
          "output_type": "stream",
          "name": "stdout",
          "text": [
            "[  100   200   400   800  1500  3000  5000 10000]\n"
          ]
        }
      ]
    },
    {
      "cell_type": "code",
      "metadata": {
        "id": "RCNbF5yZ7Yu3"
      },
      "source": [],
      "execution_count": null,
      "outputs": []
    },
    {
      "cell_type": "markdown",
      "metadata": {
        "id": "yJJj_-PS9-84"
      },
      "source": [
        "3) Use the np.min() and np.max() functions to find the minimum and maximum distances"
      ]
    },
    {
      "cell_type": "code",
      "metadata": {
        "id": "Cm0h775W7j1I",
        "colab": {
          "base_uri": "https://localhost:8080/"
        },
        "outputId": "0dbb0462-ecaa-4615-c8f2-14671b89da70"
      },
      "source": [
        "import numpy as np\n",
        "\n",
        "Max_Distance=np.max(meters_Distance)\n",
        "Min_Distance=np.min(meters_Distance)\n",
        "print(Max_Distance)\n",
        "print(Min_Distance)\n"
      ],
      "execution_count": 5,
      "outputs": [
        {
          "output_type": "stream",
          "name": "stdout",
          "text": [
            "10000\n",
            "100\n"
          ]
        }
      ]
    },
    {
      "cell_type": "markdown",
      "metadata": {
        "id": "1GKAMKM4-D4n"
      },
      "source": [
        "4) To find the average distance, use the np.mean() function"
      ]
    },
    {
      "cell_type": "code",
      "metadata": {
        "id": "eMVVUS7D7qzi",
        "colab": {
          "base_uri": "https://localhost:8080/"
        },
        "outputId": "8fc5a886-a8b8-45fa-e6ed-a5016462031b"
      },
      "source": [
        "import numpy as np\n",
        "Average_Distance=np.mean(meters_Distance)\n",
        "print(Average_Distance)\n"
      ],
      "execution_count": 6,
      "outputs": [
        {
          "output_type": "stream",
          "name": "stdout",
          "text": [
            "2625.0\n"
          ]
        }
      ]
    },
    {
      "cell_type": "markdown",
      "metadata": {
        "id": "jrsIZDBN-Lwg"
      },
      "source": [
        "5) use the np.sum() function to find the total distance"
      ]
    },
    {
      "cell_type": "code",
      "metadata": {
        "id": "hrlC2Z8Q7vFD",
        "colab": {
          "base_uri": "https://localhost:8080/"
        },
        "outputId": "600ca242-871b-412f-de06-52307d7df1b0"
      },
      "source": [
        "import numpy as np\n",
        "Sum_Distance=np.sum(meters_Distance)\n",
        "print(Sum_Distance)"
      ],
      "execution_count": 7,
      "outputs": [
        {
          "output_type": "stream",
          "name": "stdout",
          "text": [
            "21000\n"
          ]
        }
      ]
    },
    {
      "cell_type": "markdown",
      "metadata": {
        "id": "TZh6JLbu-Qt_"
      },
      "source": [
        "6) Another valuable function is the np.cumsum() function which outputs the cumulative sum...notice the output will be 100, 300, 700 as it adds each new distance"
      ]
    },
    {
      "cell_type": "code",
      "metadata": {
        "id": "zE035Xl574vz",
        "colab": {
          "base_uri": "https://localhost:8080/"
        },
        "outputId": "e840253c-e124-4a8b-a0e5-7fe6a91c5542"
      },
      "source": [
        "import numpy as np\n",
        "Cumul_Distance=np.cumsum(meters_Distance)\n",
        "print(Cumul_Distance)"
      ],
      "execution_count": 8,
      "outputs": [
        {
          "output_type": "stream",
          "name": "stdout",
          "text": [
            "[  100   300   700  1500  3000  6000 11000 21000]\n"
          ]
        }
      ]
    },
    {
      "cell_type": "markdown",
      "metadata": {
        "id": "XlxjutTF-XSf"
      },
      "source": [
        "7) To round all of the values in an array, use np.round()"
      ]
    },
    {
      "cell_type": "code",
      "metadata": {
        "id": "hrBA_Qqt8E3V",
        "colab": {
          "base_uri": "https://localhost:8080/"
        },
        "outputId": "f6324a40-ca21-42d5-98e8-729760217fc6"
      },
      "source": [
        "import numpy as np\n",
        "Values_Distance=np.round(meters_Distance)\n",
        "print(Values_Distance)"
      ],
      "execution_count": 9,
      "outputs": [
        {
          "output_type": "stream",
          "name": "stdout",
          "text": [
            "[  100   200   400   800  1500  3000  5000 10000]\n"
          ]
        }
      ]
    },
    {
      "cell_type": "markdown",
      "metadata": {
        "id": "-wL-9Gl0-eSo"
      },
      "source": [
        "8) Create a numpy array called time that includes the following times (in seconds):  10.62, 21.34, 48.25, 113.43, 233.96, 506.53, 866.17, 1757.45"
      ]
    },
    {
      "cell_type": "code",
      "metadata": {
        "id": "KFwp2lb88KgE",
        "colab": {
          "base_uri": "https://localhost:8080/"
        },
        "outputId": "e863d912-7bfe-4a3c-9e44-d31932fbda28"
      },
      "source": [
        "import numpy as np\n",
        "\n",
        "Seconds=[10.62, 21.34, 48.25, 113.43, 233.96, 506.53, 866.17, 1757.45]\n",
        "Seconds_Time=np.array(Seconds)\n",
        "\n",
        "print(Seconds_Time)"
      ],
      "execution_count": 11,
      "outputs": [
        {
          "output_type": "stream",
          "name": "stdout",
          "text": [
            "[  10.62   21.34   48.25  113.43  233.96  506.53  866.17 1757.45]\n"
          ]
        }
      ]
    },
    {
      "cell_type": "markdown",
      "metadata": {
        "id": "MFspcIAi-kJY"
      },
      "source": [
        "9) the values in your time array correspond to olympic records for running the corresponding distances.  Perform the calculation needed to find the speed (in m/s) for each record distance.  Note that speed is distance divided by time."
      ]
    },
    {
      "cell_type": "code",
      "metadata": {
        "id": "VacJ48K3-jwq",
        "colab": {
          "base_uri": "https://localhost:8080/"
        },
        "outputId": "49847667-1e5e-41ac-a493-d4b58fcfe2f8"
      },
      "source": [
        "import numpy as np\n",
        "Speed_Olym=meters_Distance/Seconds_Time\n",
        "print(Speed_Olym)\n",
        "\n"
      ],
      "execution_count": 14,
      "outputs": [
        {
          "output_type": "stream",
          "name": "stdout",
          "text": [
            "[9.41619586 9.37207123 8.29015544 7.0528079  6.41135237 5.92265019\n",
            " 5.77253888 5.69006231]\n"
          ]
        }
      ]
    },
    {
      "cell_type": "markdown",
      "source": [],
      "metadata": {
        "id": "1_muoiVRmzAx"
      }
    },
    {
      "cell_type": "markdown",
      "metadata": {
        "id": "BRURQ2P3-oXv"
      },
      "source": [
        "10) One common problem data scientists run into is that we are given information in units that are not consistent.  \n",
        "For example, we might want to compare data that is given in meters to second to data that is given in miles per hour. A cheetah is the fastest land animal which can reach speeds of 75.0 miles per hour.  \n",
        "In order to compare our olympians to a cheetah, we need to be able to convert from one unit to another.\n",
        "Perform calculations to convert the olympic record speeds from meters/second into miles per hour.  Note: 1 meter = 0.00062 miles\n",
        "\n",
        "How do our olympians compare to the cheetah?\n",
        "\n",
        "(Hint: Speed in m/s multiplied by 0.00062 and multiplied by 3600 will give speed in miles per hour)"
      ]
    },
    {
      "cell_type": "code",
      "metadata": {
        "id": "8LehjzOx8YY0",
        "colab": {
          "base_uri": "https://localhost:8080/"
        },
        "outputId": "b495a69b-7750-4aa4-d0e1-69f2c0bf7863"
      },
      "source": [
        "import numpy as np\n",
        "Speed_Olym=meters_Distance/Seconds_Time\n",
        "Speed_firstcom=Speed_Olym*0.00062*3600\n",
        "print(Speed_firstcom)\n",
        "Max_speed=np.max(Speed_firstcom)\n",
        "print(Max_speed)\n",
        "\n"
      ],
      "execution_count": 17,
      "outputs": [
        {
          "output_type": "stream",
          "name": "stdout",
          "text": [
            "[21.01694915 20.91846298 18.50362694 15.74186723 14.31013849 13.21935522\n",
            " 12.88430678 12.70021907]\n",
            "21.016949152542374\n"
          ]
        }
      ]
    }
  ]
}